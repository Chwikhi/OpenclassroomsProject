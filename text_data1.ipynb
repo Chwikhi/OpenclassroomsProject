{
 "cells": [
  {
   "cell_type": "code",
   "execution_count": 1,
   "metadata": {},
   "outputs": [
    {
     "name": "stdout",
     "output_type": "stream",
     "text": [
      "['M14', 'GCAT', 'C18', 'C15', 'GCAT']\n",
      "1000\n"
     ]
    }
   ],
   "source": [
    "from sklearn.datasets import fetch_rcv1\n",
    "import numpy as np\n",
    "dataset = fetch_rcv1(shuffle=True, random_state=1)\n",
    "X = dataset.data[0:1000]\n",
    "ym = dataset.target[0:1000]\n",
    "topics = dataset.target_names\n",
    "y = []\n",
    "\n",
    "for i in range(1000):\n",
    "    t = False\n",
    "    for j in range(103):\n",
    "        if (t==False) and (ym[i, j] == 1):\n",
    "            y.append(topics[j])\n",
    "            t=True\n",
    "                \n",
    "print(y[:5])\n",
    "print(len(y))"
   ]
  },
  {
   "cell_type": "code",
   "execution_count": null,
   "metadata": {},
   "outputs": [],
   "source": []
  },
  {
   "cell_type": "code",
   "execution_count": null,
   "metadata": {},
   "outputs": [],
   "source": []
  },
  {
   "cell_type": "code",
   "execution_count": null,
   "metadata": {},
   "outputs": [],
   "source": [
    "y = np.array(y)\n",
    "y = y.reshape(y.shape[0], 1)\n"
   ]
  }
 ],
 "metadata": {
  "kernelspec": {
   "display_name": "Python 3",
   "language": "python",
   "name": "python3"
  },
  "language_info": {
   "codemirror_mode": {
    "name": "ipython",
    "version": 3
   },
   "file_extension": ".py",
   "mimetype": "text/x-python",
   "name": "python",
   "nbconvert_exporter": "python",
   "pygments_lexer": "ipython3",
   "version": "3.8.3"
  }
 },
 "nbformat": 4,
 "nbformat_minor": 4
}
